{
 "cells": [
  {
   "cell_type": "code",
   "execution_count": null,
   "id": "24254616",
   "metadata": {},
   "outputs": [
    {
     "name": "stdout",
     "output_type": "stream",
     "text": [
      "a의 타입은 : <class 'list'>\n",
      "[1, 2, 3, 4]\n",
      "b의 타입은 : <class 'numpy.ndarray'>\n",
      "[1 2 3 4]\n",
      "int64\n",
      "[1.   2.   3.14 4.   5.  ]\n",
      "float64\n",
      "[1. 2. 3. 4. 5.]\n"
     ]
    }
   ],
   "source": [
    "# ndarray의 생성\n",
    "\n",
    "import numpy as np\n",
    "\n",
    "a = [1,2,3,4] # Python의 List\n",
    "print(f'a의 타입은 : {type(a)}')\n",
    "print(a) # python list는 ,로 데이터 구분\n",
    "\n",
    "b= np.array([1,2,3,4])\n",
    "print(f'b의 타입은 : {type(b)}')\n",
    "print(b) # ndarray는 띄어쓰기로 구분\n",
    "\n",
    "# ndarray는 python의 list와는 다르게\n",
    "# 모든 요소가 같은 데이터 타입이어야 해요!\n",
    "print(b.dtype) # int64\n",
    "\n",
    "c = np.array([1, 2, 3.14, 4, 5]) # 공백을 기준으로 모두 실수로 표현\n",
    "print(c) # [1.   2.   3.14 4.   5.  ]\n",
    "print(c.dtype) # float64\n",
    "\n",
    "d = np.array([1, 2, 3, 4, 5], dtype=np.float64) # 타입을 지정해서 생성 가능\n",
    "print(d) # [1. 2. 3. 4. 5.]"
   ]
  },
  {
   "cell_type": "code",
   "execution_count": null,
   "id": "98be3a65",
   "metadata": {},
   "outputs": [
    {
     "name": "stdout",
     "output_type": "stream",
     "text": [
      "[[1, 2, 3], [4, 5, 6]]\n",
      "[[1 2 3]\n",
      " [4 5 6]]\n",
      "[[[1 2 3]\n",
      "  [1 2 3]]\n",
      "\n",
      " [[1 2 3]\n",
      "  [1 2 3]]]\n"
     ]
    }
   ],
   "source": [
    "# 2. 다차원 ndarray의 생성 - 여기에서의 차원은 데이터 구조의 차원\n",
    "\n",
    "import numpy as np\n",
    "\n",
    "my_list = [[1,2,3],\n",
    "           [4,5,6]] # 2차원 중첩리스트\n",
    "\n",
    "arr= np.array(my_list)\n",
    "\n",
    "print(my_list) # 리스트 자체를 출력\n",
    "print(arr)  # 차원을 표핸해서 출력"
   ]
  },
  {
   "cell_type": "code",
   "execution_count": 59,
   "id": "aaa0ebd4",
   "metadata": {},
   "outputs": [
    {
     "name": "stdout",
     "output_type": "stream",
     "text": [
      "float64\n",
      "[1. 2. 3. 4.]\n",
      "2.0\n",
      "<class 'numpy.ndarray'>\n",
      "[[1 2]\n",
      " [3 4]]\n",
      "2\n",
      "[3 4]\n",
      "3\n"
     ]
    }
   ],
   "source": [
    "# 1차원 ndarray\n",
    "\n",
    "arr1 = np.array([1,2,3,4], dtype=np.float64)\n",
    "\n",
    "print(arr1.dtype)\n",
    "print(arr1)\n",
    "print(arr1[1])  #2.0\n",
    "print(type(arr[1])) # <class 'numpy.ndarray'>\n",
    "\n",
    "# 2차원 ndarray\n",
    "\n",
    "arr2 = np.array([[1,2], [3,4]])\n",
    "print(arr2) # 2차원 ndarray\n",
    "\n",
    "# [[1 2]\n",
    "# [3 4]]\n",
    "print(arr2[0,1]) # 2 \n",
    "print(arr2[1]) #  [3 4]] 2차원에서의 하나의 행 노출\n",
    "print(arr2[1][0]) # 3\n"
   ]
  },
  {
   "cell_type": "code",
   "execution_count": 34,
   "id": "d8e45795",
   "metadata": {},
   "outputs": [
    {
     "name": "stdout",
     "output_type": "stream",
     "text": [
      "1\n",
      "(4,)\n",
      "2\n",
      "(2, 3)\n"
     ]
    }
   ],
   "source": [
    "# 기억해야 하는 속성\n",
    "# dtype, ndim(차원수), shape(형태)\n",
    "\n",
    "a = np.array([1,2,3,4])\n",
    "print(a.ndim) # 1\n",
    "print(a.shape) # ndarray의 차원과 요소수를 tuple로 알려줘요\n",
    "               # (4,)\n",
    "\n",
    "b = np.array([[1,2,3], [4,5,6]])\n",
    "\n",
    "print(b.ndim) # 2 (차원수)\n",
    "print(b.shape) # (2, 3) (형태)"
   ]
  },
  {
   "cell_type": "code",
   "execution_count": 60,
   "id": "29b2aa79",
   "metadata": {},
   "outputs": [
    {
     "name": "stdout",
     "output_type": "stream",
     "text": [
      "(2, 4, 3)\n",
      "[[[1 2 3]\n",
      "  [1 2 3]\n",
      "  [1 2 3]\n",
      "  [1 2 3]]\n",
      "\n",
      " [[1 2 3]\n",
      "  [1 2 3]\n",
      "  [1 2 3]\n",
      "  [1 2 3]]]\n"
     ]
    },
    {
     "data": {
      "text/plain": [
       "'\\n[[[1 2 3]\\n  [1 2 3]\\n  [1 2 3]\\n  [1 2 3]]\\n\\n [[1 2 3]\\n  [1 2 3]\\n  [1 2 3]\\n  [1 2 3]]]\\n'"
      ]
     },
     "execution_count": 60,
     "metadata": {},
     "output_type": "execute_result"
    }
   ],
   "source": [
    "# (2,4,3) 2행, 4행, 3열\n",
    "# ndarray를 list를 이용해서 생성해보아요!\n",
    "\n",
    "arr = np.array([[[1,2,3],[1,2,3],\n",
    "                 [1,2,3],[1,2,3]],\n",
    "                [[1,2,3],[1,2,3],\n",
    "                 [1,2,3],[1,2,3]]])\n",
    "print(arr.shape) # (2,4,3)\n",
    "print(arr)\n",
    "'''\n",
    "[[[1 2 3]\n",
    "  [1 2 3]\n",
    "  [1 2 3]\n",
    "  [1 2 3]]\n",
    "\n",
    " [[1 2 3]\n",
    "  [1 2 3]\n",
    "  [1 2 3]\n",
    "  [1 2 3]]]\n",
    "'''"
   ]
  },
  {
   "cell_type": "code",
   "execution_count": 56,
   "id": "0c45bab4",
   "metadata": {},
   "outputs": [
    {
     "name": "stdout",
     "output_type": "stream",
     "text": [
      "[[1 2 3]\n",
      " [4 5 6]]\n",
      "2\n",
      "6\n"
     ]
    }
   ],
   "source": [
    "# 약간 조심해야 하는 함수가 있어요!\n",
    "d = np.array([[1,2,3],[4,5,6]])\n",
    "print(d) # 2행 3열의 2차원 ndarray\n",
    "'''\n",
    "[[1 2 3]\n",
    " [4 5 6]]\n",
    "'''\n",
    "\n",
    "# 요소의 총 개수를 알아낼 때는 size 사용\n",
    "print(len(d)) # 최고 차원의 개수를 알려줘요! 2행 -> 2\n",
    "print(d.size) # ndarray안의 요소 개수 -> 6"
   ]
  },
  {
   "cell_type": "code",
   "execution_count": null,
   "id": "871d47a3",
   "metadata": {},
   "outputs": [
    {
     "name": "stdout",
     "output_type": "stream",
     "text": [
      "[1 2 3 4 5 6] (6,)\n",
      "[[1 2 3]\n",
      " [4 5 6]]\n",
      "[[[1 2]\n",
      "  [3 4]\n",
      "  [5 6]]]\n"
     ]
    }
   ],
   "source": [
    "# shape 속성이 가장 중요해요! 잘 알아두어야 해요\n",
    "# shape를 이용하면 현재 ndarray의 차원수와 요소수를 쉽게 알아 낼 수 있어요\n",
    "# 추가적으로 shape를 변경하면 ndarray를 내가 원하는 형태(shape)로 변경가능\n",
    "\n",
    "# 단, 잘 사용하지 않음 -> 원본이 변경되는 이유 때문\n",
    "# 그렇기 때문에 reshape()라는 함수 이용해서 처리\n",
    "# 직접 shape의 값을 바꾸는 처리 하지 않음\n",
    "\n",
    "e = np.array([1,2,3,4,5,6])\n",
    "print(e, e.shape) # (6,)\n",
    "\n",
    "e.shape = 2,3 # 차원 변경\n",
    "print(e)\n",
    "\n",
    "e.shape = 1,3,2\n",
    "print(e)"
   ]
  },
  {
   "cell_type": "code",
   "execution_count": null,
   "id": "62d96f9f",
   "metadata": {},
   "outputs": [
    {
     "name": "stdout",
     "output_type": "stream",
     "text": [
      "[1.2 2.5 3.8 4.2 5.9] (5,)\n",
      "[1 2 3 4 5]\n"
     ]
    }
   ],
   "source": [
    "# ndarray는 dtype라는걸 갖고 있어요!\n",
    "# 만들때 데이터를 보고 자동으로 dtype 결정\n",
    "# 아니면 직접 명시 가능\n",
    "# 이렇게 결정된 dtype는 변경할 수 있어요!\n",
    "\n",
    "f = np.array([1.2, 2.5, 3.8, 4.2, 5.9])\n",
    "print(f, f.shape) # [1.2 2.5 3.8 4.2 5.9] (5,)\n",
    "\n",
    "f1 = f.astype(np.int64)\n",
    "print(f1) # [1 2 3 4 5]"
   ]
  },
  {
   "cell_type": "code",
   "execution_count": null,
   "id": "f21f24cd",
   "metadata": {},
   "outputs": [],
   "source": [
    "# list를 이용해서 ndarray를 생성하는 방법\n",
    "# 기억해야 할 여러가지 속성들(shape, dtype, ndim, size)\n",
    "# 다차원 배열을 list로 생성하는 법"
   ]
  },
  {
   "cell_type": "code",
   "execution_count": 2,
   "id": "bdfd5a84",
   "metadata": {},
   "outputs": [
    {
     "name": "stdout",
     "output_type": "stream",
     "text": [
      "[[0 0 0 0]\n",
      " [0 0 0 0]\n",
      " [0 0 0 0]]\n",
      "[[1. 1. 1. 1.]\n",
      " [1. 1. 1. 1.]\n",
      " [1. 1. 1. 1.]]\n",
      "[[2.24140297e-315 0.00000000e+000 6.11152639e-310 6.11152643e-310\n",
      "  6.11152607e-310 6.11152596e-310]\n",
      " [6.11152637e-310 6.11149527e-310 6.11149527e-310 6.11149527e-310\n",
      "  6.11152519e-310 6.11152547e-310]\n",
      " [6.11152639e-310 6.11152522e-310 6.11152646e-310 6.11152637e-310\n",
      "  6.11152646e-310 6.11152522e-310]\n",
      " [6.11149616e-310 6.11149527e-310 6.11152523e-310 6.11149527e-310\n",
      "  6.11152642e-310 6.11149527e-310]\n",
      " [6.11152646e-310 6.11152643e-310 6.11152649e-310 6.11149527e-310\n",
      "  6.11149603e-310 6.11152649e-310]]\n",
      "[[10 10 10 10]\n",
      " [10 10 10 10]\n",
      " [10 10 10 10]]\n",
      "[[0 0 0]\n",
      " [0 0 0]]\n"
     ]
    },
    {
     "data": {
      "text/plain": [
       "'\\n[[0 0 0]\\n [0 0 0]]\\n'"
      ]
     },
     "execution_count": 2,
     "metadata": {},
     "output_type": "execute_result"
    }
   ],
   "source": [
    "# ndarray를 생성하는 또 다른 방법\n",
    "import numpy as np\n",
    "\n",
    "arr = np.zeros((3,4), dtype=np.int64)\n",
    "print(arr)\n",
    "'''\n",
    "[[0. 0. 0. 0.]\n",
    " [0. 0. 0. 0.]\n",
    " [0. 0. 0. 0.]]\n",
    "'''\n",
    "arr1 = np.ones((3,4)) \n",
    "print(arr1)\n",
    "'''\n",
    "[[1. 1. 1. 1.]\n",
    " [1. 1. 1. 1.]\n",
    " [1. 1. 1. 1.]]\n",
    "'''\n",
    "\n",
    "arr2 = np.empty((5,6)) # 공간만 생성\n",
    "print(arr2)\n",
    "'''\n",
    "[[5.00601077e-316 0.00000000e+000 6.85171727e-310 6.85171727e-310\n",
    "  6.85169264e-310 6.85169271e-310]\n",
    " [6.85171720e-310 6.85169271e-310 6.85169264e-310 6.85171718e-310\n",
    "  6.85171720e-310 6.85169264e-310]\n",
    " [6.85171720e-310 6.85171727e-310 6.85171718e-310 6.85171720e-310\n",
    "  6.85169264e-310 6.85171725e-310]\n",
    " [6.85171720e-310 6.85171720e-310 6.85171724e-310 6.85171718e-310\n",
    "  6.85171718e-310 6.85171718e-310]\n",
    " [6.85171718e-310 6.85171727e-310 6.85171725e-310 6.85171718e-310\n",
    "  6.85171724e-310 6.85169263e-310]]\n",
    "'''\n",
    "\n",
    "arr3 = np.full((3,4), 10)\n",
    "print(arr3)\n",
    "'''\n",
    "[[10 10 10 10]\n",
    " [10 10 10 10]\n",
    " [10 10 10 10]]\n",
    "'''\n",
    "\n",
    "arr4 = np.array([[1,2,3], [4,5,6]]) # 2x3 ndarray\n",
    "arr_like = np.zeros_like(arr4)\n",
    "# arr4의 shape형태 처럼 모양을 만들고 내부에 0을 입력\n",
    "print(arr_like)\n",
    "'''\n",
    "[[0 0 0]\n",
    " [0 0 0]]\n",
    "'''"
   ]
  },
  {
   "cell_type": "code",
   "execution_count": null,
   "id": "44da2c2e",
   "metadata": {},
   "outputs": [
    {
     "name": "stdout",
     "output_type": "stream",
     "text": [
      "[1 2 3 4 5 6 7 8 9]\n"
     ]
    }
   ],
   "source": [
    "# 그래도 조금 더 자주 사용하는 ndarray 생성 방법\n",
    "arr = np.arange(1, 10, 1) # python의 range와 유사\n",
    "                          # 일단 1차원이고, 무조건 값이 생성\n",
    "print(arr)\n",
    "# [1 2 3 4 5 6 7 8 9]"
   ]
  },
  {
   "cell_type": "code",
   "execution_count": null,
   "id": "3bc7131c",
   "metadata": {},
   "outputs": [
    {
     "name": "stdout",
     "output_type": "stream",
     "text": [
      "[ 0.  1.  2.  3.  4.  5.  6.  7.  8.  9. 10.]\n"
     ]
    }
   ],
   "source": [
    "# 일반적으로 통계쪽에서 사용이 되는 ndarray 생성 함수\n",
    "# 주어진 범위내에서 선형적으로 균등하게 분포된 숫자 배열을 생성\n",
    "# linear space(linspace())\n",
    "# 원소간의 간격 => (마지막 값 - 처음값) / (갯수 - 1)\n",
    "\n",
    "arr = np.linspace(0,10,11)\n",
    "# 0부터 10까지 범위내에서 숫자 11개가 있으면 된다.\n",
    "print(arr)\n",
    "# [ 0.  1.  2.  3.  4.  5.  6.  7.  8.  9. 10.]"
   ]
  },
  {
   "cell_type": "code",
   "execution_count": 6,
   "id": "279c306a",
   "metadata": {},
   "outputs": [
    {
     "name": "stdout",
     "output_type": "stream",
     "text": [
      "[[51.12696215 53.15176311 54.18268575]\n",
      " [51.35668577 49.05663047 49.07003759]]\n"
     ]
    },
    {
     "data": {
      "image/png": "[encoded data removed]",
      "text/plain": [
       "<Figure size 640x480 with 1 Axes>"
      ]
     },
     "metadata": {},
     "output_type": "display_data"
    }
   ],
   "source": [
    "# 지금까지 배운 함수\n",
    "# np.array()\n",
    "# np.zeros()\n",
    "# np.arange()\n",
    "# np.linspace()\n",
    "\n",
    "# randon 기반으로 생성하는거 있어요! (기억하는게 좋아요)\n",
    "# 종류가 많아요!\n",
    "# 1. np.random.normal()\n",
    "mean = 50 # 평균\n",
    "std = 2 # 표준편차\n",
    "arr = np.random.normal(mean, std, (2,3))\n",
    "print(arr)\n",
    "\n",
    "# 표준편차 시각화 작업\n",
    "import matplotlib.pyplot as plt\n",
    "\n",
    "mean1 = 50 # 평균\n",
    "std1 = 2 # 표준편차\n",
    "arr1 = np.random.normal(mean1, std1, (10000,))\n",
    "\n",
    "plt.hist(arr1, bins=100)\n",
    "# 추출된 값의 최소와 최대를 기준으로 100개의 영역으로 나눠요\n",
    "# 100개의 구간을 나눈다음 난수로 도출된 값들이 각 영역에 몇개씩\n",
    "# 있는지 세는 것\n",
    "plt.show()"
   ]
  },
  {
   "cell_type": "code",
   "execution_count": null,
   "id": "32c938b0",
   "metadata": {},
   "outputs": [
    {
     "name": "stdout",
     "output_type": "stream",
     "text": [
      "[0.95545846 0.4262797  0.22065551 ... 0.30086312 0.63725042 0.64590102]\n"
     ]
    },
    {
     "data": {
      "image/png": "[encoded data removed]",
      "text/plain": [
       "<Figure size 640x480 with 1 Axes>"
      ]
     },
     "metadata": {},
     "output_type": "display_data"
    }
   ],
   "source": [
    "# 2. np.random.rand()\n",
    "\n",
    "arr = np.random.rand(10000)\n",
    "print(arr) # [0.95545846 0.4262797  0.22065551 ... 0.30086312 0.63725042 0.64590102]\n",
    "\n",
    "plt.hist(arr, bins=100)\n",
    "# 추출된 값의 최소와 최대를 기준으로 100개의 영역으로 나눈다.\n",
    "plt.show()"
   ]
  },
  {
   "cell_type": "code",
   "execution_count": null,
   "id": "4f6a3f0e",
   "metadata": {},
   "outputs": [
    {
     "name": "stdout",
     "output_type": "stream",
     "text": [
      "[[-39   9  18  84]\n",
      " [ -5  93 -90  82]\n",
      " [-51  14  83  60]]\n"
     ]
    }
   ],
   "source": [
    "# 3. 난수 추출해서 ndarray를 만드는 것 중에 유일하게\n",
    "# 정수난수를 균등분포로 추출하는게 있어요\n",
    "# 정수를 추출하는거고 최소값과 최대값을 줘야하고 shape를 명시\n",
    "\n",
    "arr = np.random.randint(-100, 100, (3,4))\n",
    "print(arr)\n",
    "\n",
    "'''\n",
    "[[-39   9  18  84]\n",
    " [ -5  93 -90  82]\n",
    " [-51  14  83  60]]\n",
    "'''"
   ]
  },
  {
   "cell_type": "code",
   "execution_count": null,
   "id": "19bf34f0",
   "metadata": {},
   "outputs": [
    {
     "name": "stdout",
     "output_type": "stream",
     "text": [
      "<class 'numpy.ndarray'>\n",
      "[ 1  2  3  4  5  6  7  8  9 10 11 12] (12,)\n",
      "[[ 1  2  3]\n",
      " [ 4  5  6]\n",
      " [ 7  8  9]\n",
      " [10 11 12]] (12,)\n",
      "[[100   2   3]\n",
      " [  4   5   6]\n",
      " [  7   8   9]\n",
      " [ 10  11  12]]\n",
      "[ 1  2  3  4  5  6  7  8  9 10 11 12]\n"
     ]
    }
   ],
   "source": [
    "# 가장 많이 사용되는 함수 중 하나는 reshape()이에요!\n",
    "import numpy as np\n",
    "\n",
    "arr = np.arange(1,13,1)\n",
    "print(type(arr))\n",
    "print(arr, arr.shape) # (12,)\n",
    "# [ 1  2  3  4  5  6  7  8  9 10 11 12] (12,)\n",
    "\n",
    "arr1 = arr.reshape(4,3).copy()\n",
    "print(arr1, arr.shape)\n",
    "'''\n",
    "[[ 1  2  3]\n",
    " [ 4  5  6]\n",
    " [ 7  8  9]\n",
    " [10 11 12]] (12,)\n",
    "'''\n",
    "# 이렇게 만든 arr1은 독립적인 ndarray가 아니예요!\n",
    "# view라고 불러요! arr과 데이터를 공용으로 사용\n",
    "# .copy()를 활용하여 데이터 복제 가능\n",
    "# view를 변경하면 원본도 변경되요!\n",
    "# reshape을 할때는 view를 만들던지 아니면 복사본을 만드던지 생각해서\n",
    "# 처리해야되요. 만들때믄 .copy() 함수를 사용하면 되요!\n",
    "\n",
    "# 주의해야 할 점\n",
    "arr1[0,0] = 100\n",
    "print(arr1)\n",
    "\n",
    "print(arr)"
   ]
  },
  {
   "cell_type": "code",
   "execution_count": null,
   "id": "03014051",
   "metadata": {},
   "outputs": [
    {
     "name": "stdout",
     "output_type": "stream",
     "text": [
      "[ 1  2  3  4  5  6  7  8  9 10 11 12]\n",
      "[[ 1  2  3  4]\n",
      " [ 5  6  7  8]\n",
      " [ 9 10 11 12]]\n"
     ]
    }
   ],
   "source": [
    "# 자동계산 -1 사용\n",
    "arr = np.arange(1,13,1)\n",
    "print(arr)\n",
    "# [ 1  2  3  4  5  6  7  8  9 10 11 12]\n",
    "\n",
    "# 3행 4열의 2차원으로 reshape할꺼예요\n",
    "arr1= arr.reshape(3, -1) # 3행 4열(자동계산)\n",
    "                         # 데이터를 이용해서 무조건 2차원 3행으로 만들어\n",
    "\n",
    "print(arr1)\n",
    "'''\n",
    "[[ 1  2  3  4]\n",
    " [ 5  6  7  8]\n",
    " [ 9 10 11 12]]\n",
    "'''"
   ]
  },
  {
   "cell_type": "code",
   "execution_count": 27,
   "id": "e43f00b1",
   "metadata": {},
   "outputs": [
    {
     "ename": "ValueError",
     "evalue": "cannot reshape array of size 12 into shape (3,5)",
     "output_type": "error",
     "traceback": [
      "\u001b[0;31m---------------------------------------------------------------------------\u001b[0m",
      "\u001b[0;31mValueError\u001b[0m                                Traceback (most recent call last)",
      "Cell \u001b[0;32mIn[27], line 4\u001b[0m\n\u001b[1;32m      1\u001b[0m \u001b[38;5;66;03m# 원소 개수가 불일치하면 당연히 오류\u001b[39;00m\n\u001b[1;32m      2\u001b[0m arr \u001b[38;5;241m=\u001b[39m np\u001b[38;5;241m.\u001b[39marange(\u001b[38;5;241m1\u001b[39m,\u001b[38;5;241m13\u001b[39m,\u001b[38;5;241m1\u001b[39m) \u001b[38;5;66;03m# 12개짜리 1차원\u001b[39;00m\n\u001b[0;32m----> 4\u001b[0m arr1 \u001b[38;5;241m=\u001b[39m \u001b[43marr\u001b[49m\u001b[38;5;241;43m.\u001b[39;49m\u001b[43mreshape\u001b[49m\u001b[43m(\u001b[49m\u001b[38;5;241;43m3\u001b[39;49m\u001b[43m,\u001b[49m\u001b[38;5;241;43m5\u001b[39;49m\u001b[43m)\u001b[49m \u001b[38;5;66;03m# 15개의 요소가 필요한데 실제 갖고 있는 건 12개\u001b[39;00m\n\u001b[1;32m      5\u001b[0m                         \u001b[38;5;66;03m# 당연히 view를 생성할 수 없어요!\u001b[39;00m\n",
      "\u001b[0;31mValueError\u001b[0m: cannot reshape array of size 12 into shape (3,5)"
     ]
    }
   ],
   "source": [
    "# 원소 개수가 불일치하면 당연히 오류\n",
    "arr = np.arange(1,13,1) # 12개짜리 1차원\n",
    "\n",
    "arr1 = arr.reshape(3,5) # 15개의 요소가 필요한데 실제 갖고 있는 건 12개\n",
    "                        # 당연히 view를 생성할 수 없어요!"
   ]
  },
  {
   "cell_type": "code",
   "execution_count": null,
   "id": "2860a5d7",
   "metadata": {},
   "outputs": [
    {
     "name": "stdout",
     "output_type": "stream",
     "text": [
      "[[ 1  2  3  4]\n",
      " [ 5  6  7  8]\n",
      " [ 9 10 11 12]]\n"
     ]
    }
   ],
   "source": [
    "# 자주 사용되지지는 않으나 알고 있으면 좋은 것\n",
    "arr = np.arange(1,13,1) # (12,)\n",
    "\n",
    "arr.resize(3,4) # 원본의 shape이 변경되요!\n",
    "                # 심지어 요소의 개수가 달라져도 변형되요\n",
    "print(arr)"
   ]
  },
  {
   "cell_type": "code",
   "execution_count": null,
   "id": "6414a82c",
   "metadata": {},
   "outputs": [
    {
     "name": "stdout",
     "output_type": "stream",
     "text": [
      "[10 11 12 13 14 15 16 17 18 19]\n",
      "11\n",
      "index : 0, value: 10\n",
      "index : 1, value: 11\n",
      "index : 2, value: 12\n",
      "index : 3, value: 13\n",
      "index : 4, value: 14\n",
      "index : 5, value: 15\n",
      "index : 6, value: 16\n",
      "index : 7, value: 17\n",
      "index : 8, value: 18\n",
      "index : 9, value: 19\n"
     ]
    }
   ],
   "source": [
    "# 이제 indexing, slicing, boolean indexing, fancy indexing\n",
    "\n",
    "# 간단하게 1차원 ndarray를 하나 생성해 볼꺼예요!\n",
    "arr = np.arange(10,20,1)\n",
    "print(arr)\n",
    "\n",
    "# indexing\n",
    "print(arr[1]) # 11\n",
    "\n",
    "# enumerate\n",
    "for idx, value in enumerate(arr):\n",
    "    print(f'index : {idx}, value: {value}')\n",
    "'''\n",
    "index : 0, value: 10\n",
    "index : 1, value: 11\n",
    "index : 2, value: 12\n",
    "index : 3, value: 13\n",
    "index : 4, value: 14\n",
    "index : 5, value: 15\n",
    "index : 6, value: 16\n",
    "index : 7, value: 17\n",
    "index : 8, value: 18\n",
    "index : 9, value: 19\n",
    "'''"
   ]
  },
  {
   "cell_type": "code",
   "execution_count": null,
   "id": "eb793c16",
   "metadata": {},
   "outputs": [
    {
     "name": "stdout",
     "output_type": "stream",
     "text": [
      "[1, 2, 3, 4, 5]\n",
      "[1, 2]\n",
      "[1, 2, 3, 4, 5]\n",
      "[100, 2]\n"
     ]
    }
   ],
   "source": [
    "# python\n",
    "# python은 slicing을 하더라도 view가 생성되지 않아요\n",
    "# slicing하면 새로운 list가 생겨요\n",
    "my_list_1 = [1,2,3,4,5]\n",
    "\n",
    "my_list_2 = my_list_1[0:2] # [1,2]\n",
    "print(my_list_1) # [1, 2, 3, 4, 5]\n",
    "print(my_list_2) # [1, 2]\n",
    "\n",
    "my_list_2[0] = 100\n",
    "print(my_list_1) # [1, 2, 3, 4, 5]\n",
    "print(my_list_2) # [100, 2]"
   ]
  },
  {
   "cell_type": "code",
   "execution_count": null,
   "id": "9b04bde1",
   "metadata": {},
   "outputs": [
    {
     "name": "stdout",
     "output_type": "stream",
     "text": [
      "[1 2 3 4 5]\n",
      "[1 2]\n",
      "[100   2   3   4   5]\n",
      "[100   2]\n"
     ]
    }
   ],
   "source": [
    "# Numpy의 ndarray\n",
    "# Numpy는 slicing을 하면 view가 생성\n",
    "my_arr_1 = np.array([1,2,3,4,5])\n",
    "\n",
    "my_arr_2 = my_arr_1[0:2]\n",
    "print(my_arr_1) # [1 2 3 4 5]\n",
    "print(my_arr_2) # [1 2]\n",
    "\n",
    "my_arr_2[0] = 100\n",
    "print(my_arr_1) # [100   2   3   4   5]\n",
    "print(my_arr_2) # [100   2]"
   ]
  },
  {
   "cell_type": "code",
   "execution_count": null,
   "id": "a4bc035c",
   "metadata": {},
   "outputs": [
    {
     "name": "stdout",
     "output_type": "stream",
     "text": [
      "[[ 1  2  3  4]\n",
      " [ 5  6  7  8]\n",
      " [ 9 10 11 12]\n",
      " [13 14 15 16]]\n",
      "6\n",
      "[ 9 10 11 12]\n",
      "[[ 5  6  7  8]\n",
      " [ 9 10 11 12]]\n"
     ]
    }
   ],
   "source": [
    "arr = np.arange(1,17,1).reshape(4,4)\n",
    "print(arr)\n",
    "\n",
    "# indexing\n",
    "print(arr[1,1]) # 6\n",
    "\n",
    "# slicing\n",
    "print(arr[2,:]) # [9 10 11 12]\n",
    "print(arr[1:3,:])\n",
    "'''\n",
    "[[ 5  6  7  8]\n",
    " [ 9 10 11 12]]\n",
    "'''"
   ]
  },
  {
   "cell_type": "code",
   "execution_count": 51,
   "id": "e2863b25",
   "metadata": {},
   "outputs": [
    {
     "name": "stdout",
     "output_type": "stream",
     "text": [
      "[1 4]\n",
      "[2 3 4]\n",
      "[2 4 6 8]\n",
      "5.0\n",
      "[False False False False False  True  True  True  True]\n",
      "[6 7 8 9]\n"
     ]
    }
   ],
   "source": [
    "# Boolean indexing\n",
    "\n",
    "# Boolean Mask를 만들어서 해당 mask를 이용해서 조건에 부합하는\n",
    "# 요소들만 indexing하는 방법\n",
    "arr = np.array([1,2,3,4]) # (4,)\n",
    "\n",
    "arr_mask= np.array([True, False, False, True])\n",
    "\n",
    "print(arr[arr_mask]) # [1 4]\n",
    "\n",
    "# ndarray안의 값들 중 짝수만 추출하세요! => [2 4 6 8]\n",
    "arr1 = np.array([1,2,3,4,5,6,7,8,9]) # (9,)\n",
    "# 1. mask를 만들어야 해요!\n",
    "#    연산을 통해서 만들어요!\n",
    "#    numpy의 ndarray는 사칙연산할 대 각 요소별 연산을 직접 수행해요!\n",
    "\n",
    "my_list = np.array([1, 2, 3])\n",
    "print(my_list + 1) # [2 3 4]\n",
    "\n",
    "print(arr1[arr1%2 == 0]) # 짝수만 추출\n",
    "# mask에 의해서 True로만 나오는 값만 추출\n",
    "\n",
    "# 위의 ndarray에 대해서 평균보다 큰 값들만 추출하세요!\n",
    "print(arr1.mean()) # 5.0\n",
    "print(arr1 > arr1.mean())\n",
    "# [False False False False False  True  True  True  True]\n",
    "print(arr1[arr1 > arr1.mean()]) # [6 7 8 9]"
   ]
  }
 ],
 "metadata": {
  "kernelspec": {
   "display_name": "data_env",
   "language": "python",
   "name": "python3"
  },
  "language_info": {
   "codemirror_mode": {
    "name": "ipython",
    "version": 3
   },
   "file_extension": ".py",
   "mimetype": "text/x-python",
   "name": "python",
   "nbconvert_exporter": "python",
   "pygments_lexer": "ipython3",
   "version": "3.10.16"
  }
 },
 "nbformat": 4,
 "nbformat_minor": 5
}
