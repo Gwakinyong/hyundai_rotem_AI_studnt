{
 "cells": [
  {
   "cell_type": "code",
   "execution_count": 2,
   "id": "9907481e",
   "metadata": {},
   "outputs": [
    {
     "name": "stdout",
     "output_type": "stream",
     "text": [
      "[[ 0  1  2  3]\n",
      " [ 4  5  6  7]\n",
      " [ 8  9 10 11]]\n",
      "11\n",
      "[6]\n",
      "[ 2 10]\n",
      "[[ 0  2]\n",
      " [ 4  6]\n",
      " [ 8 10]]\n",
      "[ 0 10]\n",
      "[[ 0  2]\n",
      " [ 8 10]]\n"
     ]
    }
   ],
   "source": [
    "import numpy as np\n",
    "\n",
    "arr = np.arange(0,12,1).reshape(3,4).copy()\n",
    "\n",
    "print(arr)\n",
    "\n",
    "# indexing (단일 데이터 추출)\n",
    "print(arr[2,3]) # 11\n",
    "\n",
    "# slicing (연속적인 데이터 추출)\n",
    "print(arr[1:2, 2]) # [6]\n",
    "\n",
    "# Fancy indexing\n",
    "# print(arr[행, 열])\n",
    "print(arr[[0,2],2]) # [2 10]\n",
    "# arr[[0번, 2번 행], 2번째 열]\n",
    "\n",
    "print(arr[:,[0,2]])\n",
    "'''\n",
    "[[ 0  2]\n",
    " [ 4  6]\n",
    " [ 8 10]]\n",
    "'''\n",
    "# arr[처음~끝 행, [0번, 2번째 열]]\n",
    "\n",
    "\n",
    "# 참고로 알아두세요\n",
    "print(arr[[0,2], [0,2]])\n",
    "# 추측\n",
    "'''\n",
    "0 2\n",
    "8 10\n",
    "'''\n",
    "# 의미는 위에 있는게 맞는데 구조상 다르게 출력\n",
    "# 그래서 ix_()함수를 제공해서 정상적으로 처리될 수 있게 해줘요\n",
    "print(arr[np.ix_([0,2],[0,2])])"
   ]
  },
  {
   "cell_type": "code",
   "execution_count": null,
   "id": "5f1b7f32",
   "metadata": {},
   "outputs": [
    {
     "name": "stdout",
     "output_type": "stream",
     "text": [
      "[[1 2 3]\n",
      " [4 5 6]]\n",
      "[[10 20 30]\n",
      " [40 50 60]]\n",
      "[[11 22 33]\n",
      " [44 55 66]]\n",
      "[[11 12 13]\n",
      " [14 15 16]]\n",
      "[[11 22 33]\n",
      " [14 25 36]]\n",
      "[[11 12 13]\n",
      " [14 15 16]]\n"
     ]
    }
   ],
   "source": [
    "# 사칙연산\n",
    "# ndarray의 연산은 Python의 list와 완전히 다름\n",
    "# 사칙연산(=, -,*,/)의 가장 큰 전제는\n",
    "# 두개의 ndarray가 같은 shape이어야 해요\n",
    "# 두번째로 같은 이치에 있는 놈들끼리 연산이 진행\n",
    "\n",
    "arr1 = np.array([1,2,3,4,5,6]).reshape(2,3)\n",
    "print(arr1)\n",
    "'''\n",
    "[[1 2 3]\n",
    " [4 5 6]]\n",
    "'''\n",
    "\n",
    "arr2 = np.array([10,20,30,40,50,60]).reshape(2,3)\n",
    "print(arr2)\n",
    "'''\n",
    "[[10 20 30]\n",
    " [40 50 60]]\n",
    "'''\n",
    "\n",
    "print(arr1 + arr2) # arr1과 arr2의 각각의 자리 덧셈\n",
    "'''\n",
    "[[11 22 33]\n",
    " [44 55 66]]\n",
    "'''\n",
    "\n",
    "print(arr1 + 10) # 각 위치에 10을 더하는 연산 진행\n",
    "'''              # 연산을 위해 차원을 증가 => broadcasting\n",
    "[[11 12 13]\n",
    " [14 15 16]]\n",
    "'''\n",
    "\n",
    "print(arr1 + np.array([10, 20, 30]))\n",
    "'''\n",
    "[[1 2 3]    +   [10, 20, 30]\n",
    " [4 5 6]]       [10, 20, 30]\n",
    "\n",
    "[[11 22 33]\n",
    " [14 25 36]]\n",
    "'''\n",
    "\n",
    "print(arr1 + np.array([10]))\n",
    "'''\n",
    "[[11 12 13]\n",
    " [14 15 16]]\n",
    "'''\n",
    "\n",
    "# 기억해야 하는 연산\n",
    "# 2차원 행렬(matrix)에서 행렬곱이라는 연산이 있어요!\n"
   ]
  },
  {
   "cell_type": "code",
   "execution_count": null,
   "id": "8c4c71eb",
   "metadata": {},
   "outputs": [
    {
     "name": "stdout",
     "output_type": "stream",
     "text": [
      "[[ 1  2  3  4]\n",
      " [ 5  6  7  8]\n",
      " [ 9 10 11 12]]\n",
      "[[1 2]\n",
      " [3 4]\n",
      " [5 6]\n",
      " [7 8]]\n",
      "[[ 50  60]\n",
      " [114 140]\n",
      " [178 220]]\n"
     ]
    }
   ],
   "source": [
    "arr1 = np.arange(1, 13, 1).reshape(3,4)\n",
    "arr2 = np.arange(1, 9, 1).reshape(4,2)\n",
    "\n",
    "print(arr1)\n",
    "'''\n",
    "[[ 1  2  3  4]\n",
    " [ 5  6  7  8]\n",
    " [ 9 10 11 12]]\n",
    "'''\n",
    "print(arr2)\n",
    "'''\n",
    "[[1 2]\n",
    " [3 4]\n",
    " [5 6]\n",
    " [7 8]]\n",
    "'''\n",
    "\n",
    "print(np.matmul(arr1, arr2))\n",
    "'''\n",
    "[[ 50  60]\n",
    " [114 140]\n",
    " [178 220]]\n",
    "'''"
   ]
  },
  {
   "cell_type": "code",
   "execution_count": null,
   "id": "f58264f9",
   "metadata": {},
   "outputs": [
    {
     "name": "stdout",
     "output_type": "stream",
     "text": [
      "21\n"
     ]
    }
   ],
   "source": [
    "# Numpy가 제공하는 함수들\n",
    "# 연산을 편하게 하기 위해서 제공되는 집계함수\n",
    "# 합, 평균, 최대, 최소, 표준편차, 제곱근, 등등\n",
    "\n",
    "arr = np.arange(1, 7, 1).reshape(2,3).copy()\n",
    "print(arr.sum()) # 21\n",
    "                 # 축이라는 개념\n",
    "                 # axis(축)\n",
    "\n",
    "# numpy는 집계연산을 할 때 축을 명시하지 않으면 axis가 None으로\n",
    "# 간주하고 연산을 수행\n",
    "# axis의 값은 1차원, 2차원, 3차원, 4차원, .... 다 사용할 수 있어요\n",
    "# axis는 정수! 0부터 시작하는 정수\n",
    "# ndarray 1차원은 축이 1개, axis값은 0만 사용가능\n",
    "# ndarray 2차원은 축이 2개, axis는 0과 1을 사용 가능\n",
    "# 0이 최고 차원(행) 1이 그 다음 차원(열)"
   ]
  },
  {
   "cell_type": "code",
   "execution_count": 32,
   "id": "f208346b",
   "metadata": {},
   "outputs": [
    {
     "name": "stdout",
     "output_type": "stream",
     "text": [
      "15\n",
      "15\n",
      "21\n",
      "[5 7 9]\n",
      "[ 6 15]\n",
      "3.0\n",
      "5\n",
      "1\n",
      "4\n"
     ]
    }
   ],
   "source": [
    "# 집계함수\n",
    "\n",
    "arr1 = np.array([1,2,3,4,5])\n",
    "\n",
    "print(arr1.sum()) # Numpy는 axis를 명시하지 않으면 default로 None으로 설정\n",
    "print(arr1.sum(axis=0)) # 15\n",
    "\n",
    "arr2 = np.array([[1,2,3], [4,5,6]])\n",
    "print(arr2.sum()) # 21\n",
    "print(arr2.sum(axis=0)) # [5 7 9]\n",
    "print(arr2.sum(axis=1)) # [6 15]\n",
    "\n",
    "arr3 = np.array([1,2,3,4,5])\n",
    "print(arr3.mean()) # 3.0\n",
    "print(arr3.max()) # 5\n",
    "print(arr3.min()) # 1\n",
    "print(arr3.argmax()) # 4"
   ]
  },
  {
   "cell_type": "code",
   "execution_count": 98,
   "id": "e9ccb348",
   "metadata": {},
   "outputs": [
    {
     "name": "stdout",
     "output_type": "stream",
     "text": [
      "[-1.  5. 10. 99.]\n",
      "[-1 5 10 'Hello']\n",
      "0    -1.0\n",
      "1     5.0\n",
      "2    10.0\n",
      "3    99.0\n",
      "dtype: float64\n",
      "[-1.  5. 10. 99.]\n",
      "RangeIndex(start=0, stop=4, step=1)\n",
      "float64\n"
     ]
    }
   ],
   "source": [
    "# Series\n",
    "\n",
    "import numpy as np\n",
    "import pandas as pd\n",
    "\n",
    "arr = np.array([-1, 5, 10, 99],\n",
    "               dtype=np.float64)\n",
    "print(arr) # [-1.  5. 10. 99.]\n",
    "\n",
    "# 이렇게 생성하는건 좋지 않아요!\n",
    "# Data 외곡이 너무 심한 문제\n",
    "# arr1 = np.array([-1, 5, 10, 'Hello'])\n",
    "# print(arr1) ['-1', '5', '10', 'Hello']\n",
    "\n",
    "arr1 = np.array([-1, 5, 10, 'Hello'],\n",
    "                dtype=object)\n",
    "print(arr1)\n",
    "\n",
    "# pandas의 Series를 생성 (본질은 ndarray)\n",
    "# arr = np.array([-1, 5, 10, 99], dtype=np.float64)\n",
    "s = pd.Series([-1, 5, 10, 99], dtype=np.float64)\n",
    "print(s)\n",
    "'''\n",
    "0    -1.0\n",
    "1     5.0\n",
    "2    10.0\n",
    "3    99.0\n",
    "dtype: float64\n",
    "인덱스 key값    인덱스 value값\n",
    "\n",
    "dtype: 데이터 상태\n",
    "'''\n",
    "# 1. ndarray에 dictionary 기능이 추가된 개념\n",
    "print(s.values) # [-1.  5. 10. 99.] (NumPy 배열)\n",
    "print(s.index) # RangeIndex(start=0, stop=4, step=1) 인덱스 확인\n",
    "print(s.dtype) # float64\n"
   ]
  },
  {
   "cell_type": "code",
   "execution_count": 104,
   "id": "fc88b3f3",
   "metadata": {},
   "outputs": [
    {
     "name": "stdout",
     "output_type": "stream",
     "text": [
      "c       1.0\n",
      "ab      5.0\n",
      "acd    -8.0\n",
      "k      10.0\n",
      "dtype: float64\n",
      "5.0\n",
      "5.0\n"
     ]
    },
    {
     "name": "stderr",
     "output_type": "stream",
     "text": [
      "/tmp/ipykernel_36344/2530001906.py:10: FutureWarning: Series.__getitem__ treating keys as positions is deprecated. In a future version, integer keys will always be treated as labels (consistent with DataFrame behavior). To access a value by position, use `ser.iloc[pos]`\n",
      "  print(s[1]) # 5.0\n"
     ]
    }
   ],
   "source": [
    "s = pd.Series([1,5, -8, 10],\n",
    "              dtype=np.float64,\n",
    "              index=['c', 'ab', 'acd', 'k'])\n",
    "# index 지정시, 출력하면 지정 index 출력\n",
    "\n",
    "print(s)\n",
    "\n",
    "# indexing은 어떻게 하나요\n",
    "print(s['ab']) # 5.0\n",
    "print(s[1]) # 5.0\n",
    "# index인지 value값인지 헷갈려서 지정인덱스를 숫자로 주는건 좋지 않아요"
   ]
  },
  {
   "cell_type": "code",
   "execution_count": 113,
   "id": "e8d43e78",
   "metadata": {},
   "outputs": [
    {
     "name": "stdout",
     "output_type": "stream",
     "text": [
      "c     1.0\n",
      "b     5.0\n",
      "c    -8.0\n",
      "k    10.0\n",
      "dtype: float64\n",
      "c    1.0\n",
      "c   -8.0\n",
      "dtype: float64\n"
     ]
    }
   ],
   "source": [
    "s = pd.Series([1, 5, -8, 10],\n",
    "              dtype=np.float64,\n",
    "              index=['c', 'b', 'c', 'k']) # key값 중복작성 가능\n",
    "print(s)\n",
    "print(s['c']) # 2개가 있는데 어떤걸 가져오나요?\n",
    "'''\n",
    "c    1.0\n",
    "c   -8.0\n",
    "dtype: float64\n",
    "# 모든 c의 value값을 출력\n",
    "'''"
   ]
  },
  {
   "cell_type": "code",
   "execution_count": 115,
   "id": "385d96af",
   "metadata": {},
   "outputs": [
    {
     "name": "stdout",
     "output_type": "stream",
     "text": [
      "c    1.0\n",
      "b    5.0\n",
      "dtype: float64\n"
     ]
    }
   ],
   "source": [
    "s = pd.Series([1, 5, -8, 10],\n",
    "              dtype=np.float64,\n",
    "              index=['c', 'b', 'a', 'k']) # key값 중복작성 가능\n",
    "print(s[0:2]) # ndarray의 slicing과 같아요!\n",
    "'''\n",
    "# slicing한 결과가 view인가요? copy인가요?\n",
    "python list slicing -> copy\n",
    "numpy list slicing -> view\n",
    "pandas Series clicing -> 확정 불가\n",
    "다만, pandas는 확정할 수 없어요. 만약 복사본이 필요하면\n",
    "명확하게 copy()해야 해요\n",
    "'''"
   ]
  },
  {
   "cell_type": "code",
   "execution_count": 127,
   "id": "74882a05",
   "metadata": {},
   "outputs": [
    {
     "name": "stdout",
     "output_type": "stream",
     "text": [
      "A    1.0\n",
      "B    2.0\n",
      "C    3.0\n",
      "D    4.0\n",
      "E    5.0\n",
      "F    6.0\n",
      "dtype: float64\n"
     ]
    },
    {
     "data": {
      "text/plain": [
       "C    3.0\n",
       "F    6.0\n",
       "dtype: float64"
      ]
     },
     "execution_count": 127,
     "metadata": {},
     "output_type": "execute_result"
    }
   ],
   "source": [
    "s = pd.Series(np.arange(1,7,1),\n",
    "              dtype=np.float64,\n",
    "              index=list('ABCDEF'))\n",
    "print(s)\n",
    "\n",
    "# Fancy indexing\n",
    "s[['A', 'D', 'F']]\n",
    "\n",
    "# Bollean Indexing\n",
    "# 3의 배수만 출력 (broadcasting과 boolean indexing을 잘 이해해야 되요)\n",
    "s[s.values % 3 == 0]\n",
    "# s[s % 3 == 0] 가능!\n",
    "\n",
    "# 당연히 집계함수도 제공되요!\n",
    "print(s.sum())  # 21.0"
   ]
  },
  {
   "cell_type": "code",
   "execution_count": 134,
   "id": "9f499016",
   "metadata": {},
   "outputs": [
    {
     "name": "stdout",
     "output_type": "stream",
     "text": [
      "서울    1000\n",
      "수원    3000\n",
      "제주    5000\n",
      "dtype: int64\n",
      "서울    1000\n",
      "수원    3000\n",
      "제주    5000\n",
      "인천    2000\n",
      "dtype: int64\n",
      "원본 : \n",
      "서울    1000\n",
      "수원    3000\n",
      "제주    5000\n",
      "인천    2000\n",
      "dtype: int64\n",
      "복사본 : \n",
      "수원    3000\n",
      "제주    5000\n",
      "인천    2000\n",
      "dtype: int64\n"
     ]
    }
   ],
   "source": [
    "# 결국 Series는 1차원 ndarray에 지정 index 개념을 붙여놓은거예요\n",
    "# 지정 index와 values는 key와 value의 쌍의 관계예요\n",
    "# 그래서 python의 dict를 이용해서 Series를 생성할 수 있어요\n",
    "\n",
    "my_dict = {\n",
    "    '서울':1000,\n",
    "    '수원':3000,\n",
    "    '제주':5000\n",
    "}\n",
    "\n",
    "s = pd.Series(my_dict)\n",
    "print(s)\n",
    "\n",
    "# 새로운 데이터를 추가 (인천 : 2000 추가)\n",
    "s['인천'] = 2000\n",
    "print(s)\n",
    "\n",
    "# 데이터 삭제\n",
    "s1 = s.drop('서울', inplace=False) # 기본값은 inplace = False\n",
    "# inplace가 True 원본을 삭제\n",
    "# inplace가 False 이면 복사본 생성 후 삭제\n",
    "# 즉, False는 원본 변경 없음\n",
    "print(f'원본 : \\n{s}')\n",
    "print(f'복사본 : \\n{s1}')\n",
    "'''\n",
    "원본 : \n",
    "서울    1000\n",
    "수원    3000\n",
    "제주    5000\n",
    "인천    2000\n",
    "dtype: int64\n",
    "복사본 : \n",
    "수원    3000\n",
    "제주    5000\n",
    "인천    2000\n",
    "dtype: int64\n",
    "'''"
   ]
  },
  {
   "cell_type": "code",
   "execution_count": 190,
   "id": "4eef911a",
   "metadata": {},
   "outputs": [
    {
     "name": "stdout",
     "output_type": "stream",
     "text": [
      "2019-01-01    52\n",
      "2019-01-02    49\n",
      "2019-01-03    53\n",
      "2019-01-04    57\n",
      "2019-01-05    48\n",
      "2019-01-06    48\n",
      "2019-01-07    57\n",
      "2019-01-08    53\n",
      "2019-01-09    47\n",
      "2019-01-10    52\n",
      "dtype: int64\n",
      "2019-01-05    66\n",
      "2019-01-06    66\n",
      "2019-01-07    71\n",
      "2019-01-08    54\n",
      "2019-01-09    56\n",
      "2019-01-10    65\n",
      "2019-01-11    61\n",
      "2019-01-12    72\n",
      "2019-01-13    62\n",
      "2019-01-14    58\n",
      "dtype: int64\n",
      "2019-01-01      NaN\n",
      "2019-01-02      NaN\n",
      "2019-01-03      NaN\n",
      "2019-01-04      NaN\n",
      "2019-01-05    114.0\n",
      "2019-01-06    114.0\n",
      "2019-01-07    128.0\n",
      "2019-01-08    107.0\n",
      "2019-01-09    103.0\n",
      "2019-01-10    117.0\n",
      "2019-01-11      NaN\n",
      "2019-01-12      NaN\n",
      "2019-01-13      NaN\n",
      "2019-01-14      NaN\n",
      "dtype: float64\n"
     ]
    }
   ],
   "source": [
    "# A 공장의 2019-01-01 부터 10일간 생산량을 Series로 저장\n",
    "# 생산량은 평균이 50이고 표준편차가 5인 정규분포에서 random하게 생성(정수)\n",
    "#         index    values\n",
    "# 형식) 2019-01-01   52\n",
    "#         .....     ....\n",
    "\n",
    "# B 공장의 2019-01-05 부터 10일간 생산량을 Series로 저장\n",
    "# 생산량은 평균이 70이고 표준편차가 8인 정규분포에서 random하게 생성(정수)\n",
    "#         index    values\n",
    "# 형식) 2019-01-01   52\n",
    "#         .....     ....\n",
    "\n",
    "# 날짜별로 모든 공장의 생산량 합계를 구하세요!\n",
    "\n",
    "import numpy as np\n",
    "import pandas as pd\n",
    "\n",
    "from datetime import date, datetime, timedelta\n",
    "\n",
    "# 난수의 재현을 위해 seed를 설정\n",
    "np.random.seed(42)\n",
    "\n",
    "startday_A = datetime(2019,1,1)\n",
    "factory_A = pd.Series([int(x) for x in np.random.normal(50, 5, (10,))],\n",
    "                     index=[startday_A + timedelta(days=x) for x in range(10)])\n",
    "\n",
    "print(factory_A)\n",
    "'''\n",
    "2019-01-01    58\n",
    "2019-01-02    52\n",
    "2019-01-03    54\n",
    "2019-01-04    61\n",
    "2019-01-05    59\n",
    "2019-01-06    45\n",
    "2019-01-07    54\n",
    "2019-01-08    49\n",
    "2019-01-09    49\n",
    "2019-01-10    52\n",
    "dtype: int64\n",
    "'''\n",
    "startday_B = datetime(2019,1,5)\n",
    "factory_B = pd.Series([int(x) for x in np.random.normal(70, 8, (10,))],\n",
    "                     index=[startday_B + timedelta(days=x) for x in range(10)])\n",
    "\n",
    "print(factory_B)\n",
    "'''\n",
    "2019-01-05    66\n",
    "2019-01-06    66\n",
    "2019-01-07    71\n",
    "2019-01-08    54\n",
    "2019-01-09    56\n",
    "2019-01-10    65\n",
    "2019-01-11    61\n",
    "2019-01-12    72\n",
    "2019-01-13    62\n",
    "2019-01-14    58\n",
    "dtype: int64\n",
    "'''\n",
    "\n",
    "print(factory_A + factory_B)\n",
    "# Series는 반드시 index를 기준으로 연산이 수행되어야 해요!\n",
    "# NaN => Not A Number 기본의미는 숫자가 아니다의 의미\n",
    "#        다른 의미로 값이 없어요라는 의미도 가지고 있어요\n",
    "# 1 + NaN = NaN\n",
    "'''\n",
    "2019-01-01      NaN\n",
    "2019-01-02      NaN\n",
    "2019-01-03      NaN\n",
    "2019-01-04      NaN\n",
    "2019-01-05    114.0\n",
    "2019-01-06    114.0\n",
    "2019-01-07    128.0\n",
    "2019-01-08    107.0\n",
    "2019-01-09    103.0\n",
    "2019-01-10    117.0\n",
    "2019-01-11      NaN\n",
    "2019-01-12      NaN\n",
    "2019-01-13      NaN\n",
    "2019-01-14      NaN\n",
    "dtype: float64\n",
    "'''\n",
    "\n",
    "# 그럼 우리가 원하는 결과를 만들려면 어떻게 해야해요?\n",
    "# A 공장은 1월 1일 ~ 1월 14로 늘려줘야 해요, 단, 1월 11일 이후에는 생산량을 0으로 세팅\n",
    "# B 공장은 1월 1일 ~ 1월 4일의 데이터를 생성해야 되요. 생산량은 0으로 세팅\n",
    "\n"
   ]
  },
  {
   "cell_type": "code",
   "execution_count": null,
   "id": "caae4f59",
   "metadata": {},
   "outputs": [],
   "source": [
    "index_a = set(factory_A.index)\n",
    "index_b = set(factory_B.index)\n",
    "\n",
    "index_a_b = index_a - index_b # 차집합\n",
    "index_b_a = index_b - index_a # 차집합\n",
    "\n",
    "for i in index_a_b:\n",
    "    factory_B[i] = 0\n",
    "\n",
    "for i in index_b_a:\n",
    "    factory_A[i] = 0\n",
    "\n",
    "print(factory_A + factory_B)\n",
    "'''\n",
    "2019-01-01     52\n",
    "2019-01-02     49\n",
    "2019-01-03     53\n",
    "2019-01-04     57\n",
    "2019-01-05    114\n",
    "2019-01-06    114\n",
    "2019-01-07    128\n",
    "2019-01-08    107\n",
    "2019-01-09    103\n",
    "2019-01-10    117\n",
    "2019-01-11     61\n",
    "2019-01-12     72\n",
    "2019-01-13     62\n",
    "2019-01-14     58\n",
    "Freq: D, dtype: int64\n",
    "'''"
   ]
  },
  {
   "cell_type": "markdown",
   "id": "8d880fa8",
   "metadata": {},
   "source": [
    "# 연습문제"
   ]
  },
  {
   "cell_type": "code",
   "execution_count": null,
   "id": "e2f1b749",
   "metadata": {},
   "outputs": [
    {
     "name": "stdout",
     "output_type": "stream",
     "text": [
      "[ 0  1  2  3  4  5  6  7  8  9 10 11 12 13 14 15]\n"
     ]
    }
   ],
   "source": [
    "ar1 = np.arange(0, 16, 1)\n",
    "print(ar1)"
   ]
  },
  {
   "cell_type": "code",
   "execution_count": 36,
   "id": "a9900c04",
   "metadata": {},
   "outputs": [
    {
     "name": "stdout",
     "output_type": "stream",
     "text": [
      "[[1. 1. 1. 1. 1.]\n",
      " [1. 1. 1. 1. 1.]\n",
      " [1. 1. 1. 1. 1.]\n",
      " [1. 1. 1. 1. 1.]\n",
      " [1. 1. 1. 1. 1.]]\n"
     ]
    }
   ],
   "source": [
    "ar2 = np.ones((5,5))\n",
    "print(ar2)"
   ]
  },
  {
   "cell_type": "code",
   "execution_count": 37,
   "id": "4ac68911",
   "metadata": {},
   "outputs": [
    {
     "name": "stdout",
     "output_type": "stream",
     "text": [
      "[0.         0.05263158 0.10526316 0.15789474 0.21052632 0.26315789\n",
      " 0.31578947 0.36842105 0.42105263 0.47368421 0.52631579 0.57894737\n",
      " 0.63157895 0.68421053 0.73684211 0.78947368 0.84210526 0.89473684\n",
      " 0.94736842 1.        ]\n"
     ]
    }
   ],
   "source": [
    "ar3 = np.linspace(0,1,20)\n",
    "print(ar3)"
   ]
  },
  {
   "cell_type": "code",
   "execution_count": 39,
   "id": "786fb5dd",
   "metadata": {},
   "outputs": [
    {
     "name": "stdout",
     "output_type": "stream",
     "text": [
      "[[ 1.48485722 -0.82717243 -0.57777464 -0.39964697]\n",
      " [ 0.36413449  1.35933167  0.46561134 -0.94847969]\n",
      " [ 0.78109711 -0.17812782  1.7244026  -0.09982972]]\n"
     ]
    }
   ],
   "source": [
    "# 4번\n",
    "mean = 0\n",
    "std = 1\n",
    "ar4 = np.random.normal(mean, std, (3,4))\n",
    "print(ar4)\n"
   ]
  },
  {
   "cell_type": "code",
   "execution_count": 40,
   "id": "9b07c899",
   "metadata": {},
   "outputs": [
    {
     "name": "stdout",
     "output_type": "stream",
     "text": [
      "[[1 2 3]\n",
      " [4 5 6]\n",
      " [7 8 9]]\n"
     ]
    }
   ],
   "source": [
    "# 5번\n",
    "ar5 = np.array([[1, 2, 3, 4, 5, 6, 7, 8, 9]]).reshape(3,3)\n",
    "print(ar5)"
   ]
  },
  {
   "cell_type": "code",
   "execution_count": 42,
   "id": "456bf2e2",
   "metadata": {},
   "outputs": [
    {
     "name": "stdout",
     "output_type": "stream",
     "text": [
      "[[0 0 0 0 0]\n",
      " [0 1 1 1 0]\n",
      " [0 1 1 1 0]\n",
      " [0 1 1 1 0]\n",
      " [0 0 0 0 0]]\n"
     ]
    }
   ],
   "source": [
    "# 6번\n",
    "ar6 = np.zeros((5,5), dtype=np.int64)\n",
    "ar6[1:4,1:4] = 1\n",
    "print(ar6)"
   ]
  },
  {
   "cell_type": "code",
   "execution_count": 5,
   "id": "b8b981c4",
   "metadata": {},
   "outputs": [
    {
     "name": "stdout",
     "output_type": "stream",
     "text": [
      "[[ 1  4  9]\n",
      " [16 25 36]\n",
      " [49 64 81]]\n"
     ]
    }
   ],
   "source": [
    "# 7번\n",
    "ar7 = np.arange(1,10,1).reshape(3,3)\n",
    "\n",
    "print(ar7 * ar7)"
   ]
  },
  {
   "cell_type": "code",
   "execution_count": 19,
   "id": "20f59f21",
   "metadata": {},
   "outputs": [
    {
     "name": "stdout",
     "output_type": "stream",
     "text": [
      "[[1 2 3]\n",
      " [4 5 6]]\n"
     ]
    }
   ],
   "source": [
    "# 8번\n",
    "a = np.array([1, 2, 3])\n",
    "b = np.array([4, 5, 6])\n",
    "\n",
    "print(np.vstack((a,b)))\n"
   ]
  },
  {
   "cell_type": "code",
   "execution_count": 31,
   "id": "1f0a74b6",
   "metadata": {},
   "outputs": [
    {
     "name": "stdout",
     "output_type": "stream",
     "text": [
      "배열의 데이터 타입: int64\n",
      "배열의 차원 수: 2\n",
      "배열의 모양: (3, 3)\n"
     ]
    }
   ],
   "source": [
    "# 9번\n",
    "ar9 = np.zeros((3,3), dtype=np.int64)\n",
    "print(f'배열의 데이터 타입: {ar9.dtype}')\n",
    "print(f'배열의 차원 수: {ar9.ndim}')\n",
    "print(f'배열의 모양: {ar9.shape}')"
   ]
  },
  {
   "cell_type": "code",
   "execution_count": 32,
   "id": "6886051f",
   "metadata": {},
   "outputs": [
    {
     "name": "stdout",
     "output_type": "stream",
     "text": [
      "[31 85 89 30 27 64 38  2 50 51]\n"
     ]
    }
   ],
   "source": [
    "# 10번\n",
    "ar10 = np.random.randint(0,100,10)\n",
    "\n",
    "print(ar10)"
   ]
  },
  {
   "cell_type": "markdown",
   "id": "6086bf58",
   "metadata": {},
   "source": [
    "# ndarray indexing과 slicing"
   ]
  },
  {
   "cell_type": "code",
   "execution_count": 34,
   "id": "c844bdd4",
   "metadata": {},
   "outputs": [
    {
     "name": "stdout",
     "output_type": "stream",
     "text": [
      "30\n"
     ]
    }
   ],
   "source": [
    "# 1번\n",
    "arr1 = np.array([10, 20, 30, 40, 50])\n",
    "print(arr1[2])"
   ]
  },
  {
   "cell_type": "code",
   "execution_count": 36,
   "id": "55f3c7b2",
   "metadata": {},
   "outputs": [
    {
     "name": "stdout",
     "output_type": "stream",
     "text": [
      "5\n"
     ]
    }
   ],
   "source": [
    "# 2번\n",
    "arr2 = np.array([[1, 2, 3],[4, 5, 6],[7, 8, 9]])\n",
    "print(arr2[1][1])"
   ]
  },
  {
   "cell_type": "code",
   "execution_count": 38,
   "id": "a905702b",
   "metadata": {},
   "outputs": [
    {
     "name": "stdout",
     "output_type": "stream",
     "text": [
      "[20 30 40]\n"
     ]
    }
   ],
   "source": [
    "# 3번\n",
    "arr3 = np.array([10, 20, 30, 40, 50])\n",
    "print(arr3[1:4])"
   ]
  },
  {
   "cell_type": "code",
   "execution_count": 48,
   "id": "9a73ee8d",
   "metadata": {},
   "outputs": [
    {
     "name": "stdout",
     "output_type": "stream",
     "text": [
      "[[2 3]\n",
      " [6 7]]\n"
     ]
    }
   ],
   "source": [
    "# 4번\n",
    "arr4 = np.array([[1, 2, 3, 4],\n",
    "                 [5, 6, 7, 8],\n",
    "                 [9, 10, 11, 12]])\n",
    "\n",
    "print(arr4[0:2,1:3])"
   ]
  },
  {
   "cell_type": "code",
   "execution_count": 50,
   "id": "c8fd4c99",
   "metadata": {},
   "outputs": [
    {
     "name": "stdout",
     "output_type": "stream",
     "text": [
      "[7 8 9]\n"
     ]
    }
   ],
   "source": [
    "# 5번\n",
    "arr5 = np.array([[[ 1,  2,  3],\n",
    "                  [ 4,  5,  6]],\n",
    "\n",
    "                 [[ 7,  8,  9],\n",
    "                  [10, 11, 12]],\n",
    "\n",
    "                 [[13, 14, 15],\n",
    "                  [16, 17, 18]]])\n",
    "\n",
    "print(arr5[1][0])"
   ]
  },
  {
   "cell_type": "code",
   "execution_count": 51,
   "id": "32f81bcd",
   "metadata": {},
   "outputs": [
    {
     "name": "stdout",
     "output_type": "stream",
     "text": [
      "[ 1  6 11 16]\n"
     ]
    }
   ],
   "source": [
    "# 6번\n",
    "arr6 = np.array([[ 1,  2,  3,  4],\n",
    "                 [ 5,  6,  7,  8],\n",
    "                 [ 9, 10, 11, 12],\n",
    "                 [13, 14, 15, 16]])\n",
    "\n",
    "print(np.diag(arr6))"
   ]
  },
  {
   "cell_type": "code",
   "execution_count": 60,
   "id": "137045b8",
   "metadata": {},
   "outputs": [
    {
     "name": "stdout",
     "output_type": "stream",
     "text": [
      "[ 2  4  6  8 10]\n"
     ]
    }
   ],
   "source": [
    "# 7번\n",
    "arr7 = np.array([1, 2, 3, 4, 5, 6, 7, 8, 9, 10])\n",
    "print(arr7[1::2])"
   ]
  },
  {
   "cell_type": "code",
   "execution_count": 62,
   "id": "30b47a23",
   "metadata": {},
   "outputs": [
    {
     "name": "stdout",
     "output_type": "stream",
     "text": [
      "[ 6  7  8  9 10 11 12 13 14 15 16]\n"
     ]
    }
   ],
   "source": [
    "# 8번\n",
    "arr8 = np.array([[ 1,  2,  3,  4],\n",
    "                 [ 5,  6,  7,  8],\n",
    "                 [ 9, 10, 11, 12],\n",
    "                 [13, 14, 15, 16]])\n",
    "arr81 = np.hstack(arr8)\n",
    "print(arr81[5:])"
   ]
  },
  {
   "cell_type": "code",
   "execution_count": 64,
   "id": "a4728586",
   "metadata": {},
   "outputs": [
    {
     "name": "stdout",
     "output_type": "stream",
     "text": [
      "[ 0  1  2 -1 -1 -1  6  7  8  9]\n"
     ]
    }
   ],
   "source": [
    "# 9번\n",
    "arr9 = np.array([0, 1, 2, 3, 4, 5, 6, 7, 8, 9])\n",
    "arr9[3:6] = -1\n",
    "print(arr9)"
   ]
  },
  {
   "cell_type": "code",
   "execution_count": 67,
   "id": "79466ae0",
   "metadata": {},
   "outputs": [
    {
     "name": "stdout",
     "output_type": "stream",
     "text": [
      "[[ 0  0  0  0]\n",
      " [ 0  6  7  0]\n",
      " [ 0 10 11  0]\n",
      " [ 0  0  0  0]]\n"
     ]
    }
   ],
   "source": [
    "# 10번\n",
    "arr10 = np.array([[ 1,  2,  3,  4],\n",
    "                  [ 5,  6,  7,  8],\n",
    "                  [ 9, 10, 11, 12],\n",
    "                  [13, 14, 15, 16]])\n",
    "\n",
    "arr10[[0,3]] = 0\n",
    "arr10[1:3,[0,3]] = 0\n",
    "print(arr10)"
   ]
  },
  {
   "cell_type": "code",
   "execution_count": 84,
   "id": "3b543b4a",
   "metadata": {},
   "outputs": [
    {
     "name": "stdout",
     "output_type": "stream",
     "text": [
      "[20 25 30 35 40 45]\n"
     ]
    }
   ],
   "source": [
    "# 11번\n",
    "arr = np.array([10, 15, 20, 25, 30, 35, 40, 45, 50, 55, 60])\n",
    "narr = []\n",
    "for i in arr:\n",
    "    if i >= 20 and i < 50:\n",
    "        narr.append(i)\n",
    "\n",
    "narr = np.array(narr)\n",
    "print(narr)"
   ]
  },
  {
   "cell_type": "code",
   "execution_count": 199,
   "id": "99b44cdc",
   "metadata": {},
   "outputs": [
    {
     "name": "stdout",
     "output_type": "stream",
     "text": [
      "[[ 2  4]\n",
      " [10 12]]\n"
     ]
    }
   ],
   "source": [
    "# 12번\n",
    "arr_2d = np.array([[1, 2, 3, 4],\n",
    "                   [5, 6, 7, 8],\n",
    "                   [9, 10, 11, 12],\n",
    "                   [13, 14, 15, 16]])\n",
    "\n",
    "print(arr_2d[np.ix_([0,2],[1,3])])"
   ]
  },
  {
   "cell_type": "code",
   "execution_count": 242,
   "id": "e028f3ea",
   "metadata": {},
   "outputs": [
    {
     "name": "stdout",
     "output_type": "stream",
     "text": [
      "[[12 15  0  0]\n",
      " [ 5 18  0  0]\n",
      " [14 17 13 20]]\n"
     ]
    }
   ],
   "source": [
    "# 13번\n",
    "arr13 = np.array([[12, 15, 22, 29],\n",
    "                [5, 18, 21, 30],\n",
    "                [14, 17, 13, 20]])\n",
    "\n",
    "arr131 = np.hstack(arr)\n",
    "\n",
    "for i in range(len(arr131)):\n",
    "    if arr131[i] > 20:\n",
    "        arr131[i] = 0\n",
    "\n",
    "print(arr131.reshape((3,4)))"
   ]
  },
  {
   "cell_type": "code",
   "execution_count": 263,
   "id": "3cd101cb",
   "metadata": {},
   "outputs": [
    {
     "name": "stdout",
     "output_type": "stream",
     "text": [
      "조건을 만족하는 인덱스: [(np.int64(2), np.int64(0)), (np.int64(2), np.int64(2)), (np.int64(3), np.int64(0)), (np.int64(3), np.int64(2))]\n",
      "요소 변경 후 배열:\n",
      " [[10 15 20 25]\n",
      " [30 35 40 45]\n",
      " [-1 55 -1 65]\n",
      " [-1 75 -1 85]]\n"
     ]
    }
   ],
   "source": [
    "import numpy as np\n",
    "\n",
    "# 배열 생성\n",
    "arr = np.array([[10, 15, 20, 25],\n",
    "                [30, 35, 40, 45],\n",
    "                [50, 55, 60, 65],\n",
    "                [70, 75, 80, 85]])\n",
    "\n",
    "# 조건: 짝수 & 40보다 큰 값\n",
    "condition = (arr % 2 == 0) & (arr > 40)\n",
    "\n",
    "# 1. 조건에 맞는 인덱스 찾기\n",
    "indices = np.where(condition)\n",
    "print(\"조건을 만족하는 인덱스:\", list(zip(indices[0], indices[1])))\n",
    "\n",
    "# 2. 해당 위치 값 변경\n",
    "arr[indices] = -1\n",
    "print(\"요소 변경 후 배열:\\n\", arr)\n"
   ]
  }
 ],
 "metadata": {
  "kernelspec": {
   "display_name": "data_env",
   "language": "python",
   "name": "python3"
  },
  "language_info": {
   "codemirror_mode": {
    "name": "ipython",
    "version": 3
   },
   "file_extension": ".py",
   "mimetype": "text/x-python",
   "name": "python",
   "nbconvert_exporter": "python",
   "pygments_lexer": "ipython3",
   "version": "3.10.16"
  }
 },
 "nbformat": 4,
 "nbformat_minor": 5
}
