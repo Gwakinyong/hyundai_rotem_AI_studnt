{
 "cells": [
  {
   "cell_type": "code",
   "execution_count": null,
   "id": "de5feae7",
   "metadata": {},
   "outputs": [],
   "source": []
  }
 ],
 "metadata": {
  "kernelspec": {
   "display_name": "data_env",
   "language": "python",
   "name": "python3"
  },
  "language_info": {
   "name": "python",
   "version": "3.10.16"
  }
 },
 "nbformat": 4,
 "nbformat_minor": 5
}
