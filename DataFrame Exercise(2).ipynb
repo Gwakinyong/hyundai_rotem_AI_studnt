{
 "cells": [
  {
   "cell_type": "markdown",
   "id": "f1c611f9",
   "metadata": {},
   "source": [
    "# 1. Pandas Exercise -1"
   ]
  },
  {
   "cell_type": "markdown",
   "id": "1ae004b2",
   "metadata": {},
   "source": [
    "1. 전체 평균 연비(도시/고속)\n",
    "    \n",
    "    문제: 전체 차량의 **cty**(도시 mpg), **hwy**(고속 mpg) 평균을 구하세요.\n",
    "    \n",
    "    정답: cty 평균 **16.86**, hwy 평균 **23.44**"
   ]
  },
  {
   "cell_type": "code",
   "execution_count": null,
   "id": "1ca23613",
   "metadata": {},
   "outputs": [
    {
     "name": "stdout",
     "output_type": "stream",
     "text": [
      "cty평균 16.86, hwy평균 23.44\n"
     ]
    }
   ],
   "source": [
    "import numpy as np\n",
    "import pandas as pd\n",
    "\n",
    "df = pd.read_csv('./data/mpg.csv')\n",
    "\n",
    "# display(df.head())\n",
    "\n",
    "mean_cty = df['cty'].mean()\n",
    "mean_hwy = df['hwy'].mean()\n",
    "\n",
    "print(f'cty평균 {mean_cty:.2f}, hwy평균 {mean_hwy:.2f}')"
   ]
  },
  {
   "cell_type": "markdown",
   "id": "1d2e88f0",
   "metadata": {},
   "source": [
    "2. 제조사별 차량 수 Top 3\n",
    "    \n",
    "    문제: **manufacturer** 별 행(차량) 수를 구하고 상위 3개를 내림차순으로 제시하세요.\n",
    "    \n",
    "    정답\n",
    "    \n",
    "    1. dodge 37대\n",
    "    2. toyota 34대\n",
    "    3. volkswagen 27대"
   ]
  },
  {
   "cell_type": "code",
   "execution_count": 20,
   "id": "ee5a04eb",
   "metadata": {},
   "outputs": [
    {
     "data": {
      "text/plain": [
       "manufacturer\n",
       "dodge         37\n",
       "toyota        34\n",
       "volkswagen    27\n",
       "Name: manufacturer, dtype: int64"
      ]
     },
     "metadata": {},
     "output_type": "display_data"
    }
   ],
   "source": [
    "import numpy as np\n",
    "import pandas as pd\n",
    "\n",
    "df = pd.read_csv('./data/mpg.csv')\n",
    "\n",
    "car_group = df.groupby('manufacturer')\n",
    "\n",
    "sell_rank = car_group.manufacturer.count()\n",
    "\n",
    "top3 = sell_rank.sort_values(ascending=False)\n",
    "\n",
    "display(top3.head(3))"
   ]
  },
  {
   "cell_type": "markdown",
   "id": "128565f7",
   "metadata": {},
   "source": [
    "3. 구동 방식(drv)별 고속 연비 평균\n",
    "    \n",
    "    문제: **drv**(f=전륜, r=후륜, 4=사륜)별 **hwy** 평균을 내림차순으로 구하세요.\n",
    "    \n",
    "    정답\n",
    "    \n",
    "    - f: 28.16\n",
    "    - r: 21.00\n",
    "    - 4: 19.17"
   ]
  },
  {
   "cell_type": "code",
   "execution_count": 37,
   "id": "509fe2ac",
   "metadata": {},
   "outputs": [
    {
     "name": "stdout",
     "output_type": "stream",
     "text": [
      "f: 28.16\n",
      "r: 21.00\n",
      "4: 19.17\n"
     ]
    }
   ],
   "source": [
    "import numpy as np\n",
    "import pandas as pd\n",
    "\n",
    "df = pd.read_csv('./data/mpg.csv')\n",
    "\n",
    "drv_group = df.groupby('drv')\n",
    "\n",
    "hwy_mean = drv_group.hwy.mean()\n",
    "\n",
    "print(f'f: {hwy_mean.iloc[1]:.2f}\\n'\n",
    "      f'r: {hwy_mean.iloc[2]:.2f}\\n'\n",
    "      f'4: {hwy_mean.iloc[0]:.2f}')"
   ]
  },
  {
   "cell_type": "markdown",
   "id": "9412d2a3",
   "metadata": {},
   "source": [
    "4. 1999년 vs 2008년 고속 연비 평균 차이\n",
    "    \n",
    "    문제: **year**가 1999와 2008인 차량들의 **hwy** 평균과, (2008–1999) 차이를 구하세요.\n",
    "    \n",
    "    정답\n",
    "    \n",
    "    - 1999년: 23.43, 2008년: 23.45 → 차이 +0.02"
   ]
  },
  {
   "cell_type": "code",
   "execution_count": 41,
   "id": "bbf24476",
   "metadata": {},
   "outputs": [
    {
     "name": "stdout",
     "output_type": "stream",
     "text": [
      "1999년:23.43, 2008년:23.45 → 차이 +0.02\n"
     ]
    }
   ],
   "source": [
    "import numpy as np\n",
    "import pandas as pd\n",
    "\n",
    "df = pd.read_csv('./data/mpg.csv')\n",
    "\n",
    "year_group = df.groupby('year')\n",
    "\n",
    "mean_hwy = year_group.hwy.mean()\n",
    "\n",
    "gap = mean_hwy.iloc[1] - mean_hwy.iloc[0]\n",
    "gap_cut = np.floor(gap * 100) / 100\n",
    "\n",
    "print(f'1999년:{mean_hwy.iloc[0]:.2f}, 2008년:{mean_hwy.iloc[1]:.2f} → 차이 +{gap_cut:.2f}')"
   ]
  },
  {
   "cell_type": "markdown",
   "id": "d9a4a4ec",
   "metadata": {},
   "source": [
    "5. 배기량 2.0~3.0(L) 차량 수\n",
    "    \n",
    "    문제: **displ**이 2.0 이상 3.0 이하인 차량의 개수를 구하세요.\n",
    "    \n",
    "    정답: 86대"
   ]
  },
  {
   "cell_type": "code",
   "execution_count": 46,
   "id": "c3f8f99e",
   "metadata": {},
   "outputs": [
    {
     "name": "stdout",
     "output_type": "stream",
     "text": [
      "86대\n"
     ]
    }
   ],
   "source": [
    "import numpy as np\n",
    "import pandas as pd\n",
    "\n",
    "df = pd.read_csv('./data/mpg.csv')\n",
    "\n",
    "displ_group = df.loc[(df['displ'] >= 2.0) & (df['displ'] <= 3.0)]\n",
    "\n",
    "print(f'{displ_group.displ.count()}대')"
   ]
  },
  {
   "cell_type": "markdown",
   "id": "9352603d",
   "metadata": {},
   "source": [
    "6. 제조사별 복합연비 최고(표본≥5)\n",
    "    \n",
    "    문제: **combined_mean = (cty + hwy) / 2**로 복합연비를 정의합니다. 표본 수가 5대 이상인 제조사 중 평균 복합연비가 가장 높은 제조사와 값을 구하세요.\n",
    "    \n",
    "    정답: honda 28.50"
   ]
  },
  {
   "cell_type": "code",
   "execution_count": null,
   "id": "9806f12f",
   "metadata": {},
   "outputs": [
    {
     "name": "stdout",
     "output_type": "stream",
     "text": [
      "honda 28.5\n"
     ]
    }
   ],
   "source": [
    "import pandas as pd\n",
    "\n",
    "df = pd.read_csv('./data/mpg.csv')\n",
    "\n",
    "df['combined_mean'] = df[['cty', 'hwy']].mean(axis=1)\n",
    "\n",
    "grouped = df.groupby('manufacturer').agg(\n",
    "    avg_combined=('combined_mean', pd.Series.mean),\n",
    "    count=('combined_mean', pd.Series.count)\n",
    ")\n",
    "\n",
    "# 표본 수가 5대 이상인 것만 필터링\n",
    "filtered = grouped[grouped['count'] >= 5]\n",
    "\n",
    "# 최댓값 찾기\n",
    "max_row = filtered.loc[filtered['avg_combined'].idxmax()]\n",
    "\n",
    "print(filtered['avg_combined'].idxmax(), round(max_row['avg_combined'], 2))\n"
   ]
  },
  {
   "cell_type": "markdown",
   "id": "ec705d35",
   "metadata": {},
   "source": [
    "7. 차급(class)별 최고 고속연비 차량\n",
    "    \n",
    "    문제: 각 **class**에서 **hwy**가 최대인 (제조사, 모델, 연식, hwy) 1대를 구하세요(동률 시 임의 1대).\n",
    "    \n",
    "    정답\n",
    "    \n",
    "    - 2seater: chevrolet corvette (2008), hwy 26\n",
    "    - compact: volkswagen jetta (1999), hwy 44\n",
    "    - midsize: toyota camry (2008), hwy 32\n",
    "    - minivan: dodge caravan 2wd (1999), hwy 24\n",
    "    - pickup: toyota tacoma 4wd (2008), hwy 22\n",
    "    - subcompact: volkswagen new beetle (1999), hwy 44\n",
    "    - suv: subaru forester awd (2008), hwy 27"
   ]
  },
  {
   "cell_type": "code",
   "execution_count": 76,
   "id": "3c7b4f3c",
   "metadata": {},
   "outputs": [
    {
     "name": "stdout",
     "output_type": "stream",
     "text": [
      "2seater: chevrolet corvette 1999 26\n",
      "compact: volkswagen jetta 1999 44\n",
      "midsize: nissan altima 2008 32\n",
      "minivan: dodge caravan 2wd 1999 24\n",
      "pickup: toyota toyota tacoma 4wd 2008 22\n",
      "subcompact: volkswagen new beetle 1999 44\n",
      "suv: subaru forester awd 2008 27\n"
     ]
    }
   ],
   "source": [
    "import numpy as np\n",
    "import pandas as pd\n",
    "\n",
    "df = pd.read_csv('./data/mpg.csv')\n",
    "\n",
    "# group_fea = df.groupby('class').agg(\n",
    "#     max_hwy = ('hwy', pd.Series.max),\n",
    "# )\n",
    "hwy_max = df.groupby('class')['hwy'].idxmax()\n",
    "\n",
    "result = df.loc[hwy_max, ['class', 'manufacturer', 'model', 'year', 'hwy']]\n",
    "\n",
    "for index, row in result.iterrows():\n",
    "    print(f\"{row['class']}: {row['manufacturer']} {row['model']} {row['year']} {row['hwy']}\")"
   ]
  },
  {
   "cell_type": "markdown",
   "id": "d3e6813c",
   "metadata": {},
   "source": [
    "8. 변속기 유형(수동 vs 자동)별 고속 연비 평균\n",
    "    \n",
    "    문제: **trans**에 manual 포함 여부로 수동/자동을 분류하고, 각 집단의 **hwy** 평균을 비교하세요.\n",
    "    \n",
    "    정답\n",
    "    \n",
    "    - manual: 25.78\n",
    "    - auto: 22.29 → 수동이 평균적으로 더 높은 고속연비"
   ]
  },
  {
   "cell_type": "code",
   "execution_count": 92,
   "id": "9b99bfb1",
   "metadata": {},
   "outputs": [
    {
     "name": "stdout",
     "output_type": "stream",
     "text": [
      "manual: 25.78\n",
      "auto: 22.29\n"
     ]
    }
   ],
   "source": [
    "import numpy as np\n",
    "import pandas as pd\n",
    "\n",
    "df = pd.read_csv('./data/mpg.csv')\n",
    "\n",
    "df['trans_type'] = df['trans'].apply(lambda x: 'manual' if 'manual' in x else 'auto')\n",
    "\n",
    "trans_hwy = df.groupby('trans_type')['hwy'].mean()\n",
    "\n",
    "print(f'manual: {trans_hwy.iloc[1]:.2f}\\nauto: {trans_hwy.iloc[0]:.2f}')"
   ]
  },
  {
   "cell_type": "markdown",
   "id": "c120cbaa",
   "metadata": {},
   "source": [
    "9. 1999→2008 평균 고속연비가 가장 많이 오른 제조사\n",
    "    \n",
    "    문제: 제조사별로 1999년과 2008년 **hwy** 평균의 차이(2008–1999)를 구해, 개선 폭이 가장 큰 제조사를 찾으세요.\n",
    "    \n",
    "    정답: land rover +3.00"
   ]
  },
  {
   "cell_type": "code",
   "execution_count": 128,
   "id": "a4328b37",
   "metadata": {},
   "outputs": [
    {
     "name": "stdout",
     "output_type": "stream",
     "text": [
      "land rover +3.00\n"
     ]
    }
   ],
   "source": [
    "import numpy as np\n",
    "import pandas as pd\n",
    "\n",
    "df = pd.read_csv('./data/mpg.csv')\n",
    "\n",
    "new_df = df[['manufacturer', 'year', 'hwy']]\n",
    "\n",
    "man_mean = new_df.groupby(['manufacturer', 'year'])['hwy'].mean().unstack()\n",
    "\n",
    "sub_man = man_mean[2008] - man_mean[1999]\n",
    "\n",
    "result_new = sub_man.idxmax()\n",
    "val_new = sub_man.max()\n",
    "print(f'{result_new} +{val_new:.2f}')"
   ]
  },
  {
   "cell_type": "markdown",
   "id": "47a5545e",
   "metadata": {},
   "source": [
    "# 2. Pandas Exercise - 2"
   ]
  },
  {
   "cell_type": "markdown",
   "id": "be3e4f17",
   "metadata": {},
   "source": [
    "1. 기상 관측 이래, 서울의 최고 기온이 가장 높았던 날은 언제였고, 몇도인가요?\n",
    "    \n",
    "    정답 : **2018년 8월 1일**, 최고 기온 **39.6도**"
   ]
  },
  {
   "cell_type": "code",
   "execution_count": 157,
   "id": "1716110c",
   "metadata": {},
   "outputs": [
    {
     "name": "stdout",
     "output_type": "stream",
     "text": [
      "2018년 08월 01일, 최고 기온 39.6도\n"
     ]
    }
   ],
   "source": [
    "import numpy as np\n",
    "import pandas as pd\n",
    "\n",
    "\n",
    "df = pd.read_csv('./data/seoul.csv', encoding='cp949', skiprows=6)\n",
    "\n",
    "df['날짜'] = pd.to_datetime(df['날짜'])\n",
    "\n",
    "y = df.loc[df['최고기온(℃)'].idxmax()]\n",
    "\n",
    "day = y['날짜'].strftime('%Y년 %m월 %d일')\n",
    "degr = y['최고기온(℃)']\n",
    "\n",
    "print(f'{day}, 최고 기온 {degr}도')"
   ]
  },
  {
   "cell_type": "markdown",
   "id": "03f6e939",
   "metadata": {},
   "source": [
    "2. 서울기온에 대해 역사적으로 일교차가 가장 큰 날짜는 몇년 몇월 몇일 인가요?\n",
    "    \n",
    "    정답 : **1942년 4월 19일**, 일교차 **21.8도**"
   ]
  },
  {
   "cell_type": "code",
   "execution_count": 166,
   "id": "9d48cfb9",
   "metadata": {},
   "outputs": [
    {
     "name": "stdout",
     "output_type": "stream",
     "text": [
      "1942년 04월 19일, 일교차 21.8도\n"
     ]
    }
   ],
   "source": [
    "import numpy as np\n",
    "import pandas as pd\n",
    "\n",
    "df = pd.read_csv('./data/seoul.csv', encoding='cp949', skiprows=6)\n",
    "df['날짜'] = pd.to_datetime(df['날짜'])\n",
    "\n",
    "df['일교차'] = df['최고기온(℃)'] - df['최저기온(℃)']\n",
    "\n",
    "result = df.loc[df['일교차'].idxmax()]\n",
    "\n",
    "day = result['날짜'].strftime('%Y년 %m월 %d일')\n",
    "gap_degrees = result['일교차']\n",
    "\n",
    "print(f'{day}, 일교차 {gap_degrees}도')"
   ]
  },
  {
   "cell_type": "markdown",
   "id": "2f3943f4",
   "metadata": {},
   "source": [
    "3. 서울기온에 대해 1년 중 평균적으로 일교차가 가장 큰 날짜는 몇월 몇일 인가요?\n",
    "    \n",
    "    (1월1일의 일교차의 평균을 구할 수 있습니다. 매년 1월 1일은 있으니까요. 이렇게 각 월일에 대해 일교차의 평균을 구할 수 있는데 이 중 가장 일교차가 큰 날짜의 월일을 구하세요!)\n",
    "    \n",
    "    정답 : **4월 29일**, 평균 일교차는 약 **11.95도**"
   ]
  },
  {
   "cell_type": "code",
   "execution_count": 181,
   "id": "281feecd",
   "metadata": {},
   "outputs": [
    {
     "name": "stdout",
     "output_type": "stream",
     "text": [
      "04월 29일, 평균 일교차는 약 11.95도\n"
     ]
    }
   ],
   "source": [
    "import numpy as np\n",
    "import pandas as pd\n",
    "\n",
    "df = pd.read_csv('./data/seoul.csv', encoding='cp949', skiprows=6)\n",
    "df['날짜'] = pd.to_datetime(df['날짜'])\n",
    "\n",
    "df['일교차'] = df['최고기온(℃)'] - df['최저기온(℃)']\n",
    "\n",
    "df['월일'] = df['날짜'].dt.strftime('%m-%d')\n",
    "\n",
    "anual_gap = df.groupby('월일')['일교차'].mean()\n",
    "\n",
    "day = anual_gap.idxmax()\n",
    "months, days = day.split('-')\n",
    "deg = anual_gap.max()\n",
    "\n",
    "print(f\"{months}월 {days}일, 평균 일교차는 약 {deg:.2f}도\")"
   ]
  },
  {
   "cell_type": "markdown",
   "id": "c303a0c1",
   "metadata": {},
   "source": [
    "4. 가장 덥다고 알려진 대구보다 서울이 더 더운날(평균기온을 기준으로)이 가장 많은 연도는 언제인가요?\n",
    "    \n",
    "    정답 : 서울이 대구보다 평균 기온이 더 높은 날이 가장 많은 연도는 **2016년**이며, 그 해에는 총 **137일** 동안 서울의 평균 기온이 대구보다 더 높았습니다."
   ]
  },
  {
   "cell_type": "code",
   "execution_count": 228,
   "id": "8cff8238",
   "metadata": {},
   "outputs": [
    {
     "name": "stdout",
     "output_type": "stream",
     "text": [
      "서울이 대구보다 평균 기온이 더 높은 날이 가장 많은 연도는 2016이며, 그 해에는 총 137 동안 서울의 평균 기온이 대구보다 더 높았습니다.\n"
     ]
    }
   ],
   "source": [
    "import pandas as pd\n",
    "\n",
    "df_seoul = pd.read_csv('./data/seoul.csv', encoding='cp949', skiprows=6)\n",
    "df_daegu = pd.read_csv('./data/daegu.csv', encoding='cp949', skiprows=6)\n",
    "\n",
    "df_seoul = df_seoul.rename(columns={'평균기온(℃)' : '서울 평균기온(℃)'})\n",
    "df_daegu = df_daegu.rename(columns={'평균기온(℃)' : '대구 평균기온(℃)'})\n",
    "\n",
    "df_seoul['날짜'] = pd.to_datetime(df_seoul['날짜'])\n",
    "df_daegu['날짜'] = pd.to_datetime(df_daegu['날짜'])\n",
    "\n",
    "df_seoul['연도'] = df_seoul['날짜'].dt.year\n",
    "\n",
    "df_seoul = df_seoul[['날짜', '연도', '서울 평균기온(℃)']]\n",
    "df_daegu = df_daegu[['날짜', '대구 평균기온(℃)']]\n",
    "\n",
    "result_df = pd.merge(df_seoul, df_daegu, on='날짜')\n",
    "\n",
    "result_df = result_df.dropna(axis=0, how='any')\n",
    "\n",
    "result_df['서울>대구'] = result_df['서울 평균기온(℃)'] > result_df['대구 평균기온(℃)']\n",
    "\n",
    "# display(result_df)\n",
    "\n",
    "weather = result_df.groupby('연도')['서울>대구'].sum()\n",
    "\n",
    "print(f\"\"\"서울이 대구보다 평균 기온이 더 높은 날이 가장 많은 연도는 {weather.idxmax()}이며, 그 해에는 총 {weather.max()} 동안 서울의 평균 기온이 대구보다 더 높았습니다.\"\"\")\n"
   ]
  },
  {
   "cell_type": "markdown",
   "id": "1ad89d37",
   "metadata": {},
   "source": [
    "# 3. Pandas Exercise - 3"
   ]
  },
  {
   "cell_type": "markdown",
   "id": "633a4759",
   "metadata": {},
   "source": [
    "1. 사용자가 평가한 모든 영화의 전체 평균 평점을 출력하세요."
   ]
  },
  {
   "cell_type": "code",
   "execution_count": 233,
   "id": "eb9a274d",
   "metadata": {},
   "outputs": [
    {
     "name": "stdout",
     "output_type": "stream",
     "text": [
      "3.501556983616962\n"
     ]
    }
   ],
   "source": [
    "import pandas as pd\n",
    "\n",
    "df = pd.read_csv('./data/ratings.csv')\n",
    "\n",
    "print(df['rating'].mean())"
   ]
  },
  {
   "cell_type": "markdown",
   "id": "cad79152",
   "metadata": {},
   "source": [
    "2. 가장 많이 평가된 영화는 무엇인가?\n",
    "     단, 동률이 있으면 모두 출력하고 title을 기준으로 오름차순 정렬하세요."
   ]
  },
  {
   "cell_type": "code",
   "execution_count": 264,
   "id": "bca5cb61",
   "metadata": {},
   "outputs": [
    {
     "data": {
      "text/html": [
       "<div>\n",
       "<style scoped>\n",
       "    .dataframe tbody tr th:only-of-type {\n",
       "        vertical-align: middle;\n",
       "    }\n",
       "\n",
       "    .dataframe tbody tr th {\n",
       "        vertical-align: top;\n",
       "    }\n",
       "\n",
       "    .dataframe thead th {\n",
       "        text-align: right;\n",
       "    }\n",
       "</style>\n",
       "<table border=\"1\" class=\"dataframe\">\n",
       "  <thead>\n",
       "    <tr style=\"text-align: right;\">\n",
       "      <th></th>\n",
       "      <th>movieId</th>\n",
       "      <th>title</th>\n",
       "    </tr>\n",
       "  </thead>\n",
       "  <tbody>\n",
       "    <tr>\n",
       "      <th>314</th>\n",
       "      <td>356</td>\n",
       "      <td>Forrest Gump (1994)</td>\n",
       "    </tr>\n",
       "  </tbody>\n",
       "</table>\n",
       "</div>"
      ],
      "text/plain": [
       "     movieId                title\n",
       "314      356  Forrest Gump (1994)"
      ]
     },
     "execution_count": 264,
     "metadata": {},
     "output_type": "execute_result"
    }
   ],
   "source": [
    "import pandas as pd\n",
    "\n",
    "df_movies = pd.read_csv('./data/movies.csv')\n",
    "df_ratings = pd.read_csv('./data/ratings.csv')\n",
    "\n",
    "new_ratings = df_ratings.groupby('movieId')['userId'].count()\n",
    "\n",
    "new_ratings = pd.DataFrame(new_ratings)\n",
    "new_ratings = new_ratings.rename(columns={'userId' : 'count_user'})\n",
    "\n",
    "# display(new_ratings)\n",
    "\n",
    "good_rate = pd.merge(df_movies, new_ratings, on='movieId')\n",
    "\n",
    "max_count = good_rate['count_user'].max()\n",
    "new_result = good_rate[good_rate['count_user'] == max_count].sort_values('title')\n",
    "\n",
    "new_result[['movieId', 'title']]"
   ]
  },
  {
   "cell_type": "markdown",
   "id": "ded57edc",
   "metadata": {},
   "source": [
    "3. 가장 많은 영화를 포함하는 장르는 무엇인가?\n",
    "   단, 동률이 있으면 모두 출력하고 장르를 기준으로 오름차순 정렬하세요."
   ]
  },
  {
   "cell_type": "code",
   "execution_count": 24,
   "id": "9a8af93b",
   "metadata": {},
   "outputs": [
    {
     "name": "stdout",
     "output_type": "stream",
     "text": [
      "['Drama']\n"
     ]
    }
   ],
   "source": [
    "# 3. 가장 많은 영화를 포함하는 장르는 무엇인가?\n",
    "#    단, 동률이 있으면 모두 출력하고 장르를 기준으로 오름차순 정렬하세요.\n",
    "\n",
    "import pandas as pd\n",
    "\n",
    "df_movies = pd.read_csv('./data/movies.csv')\n",
    "df_ratings = pd.read_csv('./data/ratings.csv')\n",
    "\n",
    "genres = df_movies['genres'].str.split('|').explode()\n",
    "\n",
    "genres_counts = genres.value_counts()\n",
    "\n",
    "max_count = genres_counts.max()\n",
    "\n",
    "most_common_genres = genres_counts[genres_counts == max_count].sort_index()\n",
    "\n",
    "print(most_common_genres.index.tolist())"
   ]
  },
  {
   "cell_type": "markdown",
   "id": "492c5b88",
   "metadata": {},
   "source": [
    "4. 가장 높은 평균 평점을 받은 장르는 무엇인가?\n",
    "   단, 동률이 있으면 모두 출력하고 장르를 기준으로 오름차순 정렬하세요."
   ]
  },
  {
   "cell_type": "code",
   "execution_count": 70,
   "id": "e73eee17",
   "metadata": {},
   "outputs": [
    {
     "name": "stdout",
     "output_type": "stream",
     "text": [
      "['Film-Noir']\n"
     ]
    }
   ],
   "source": [
    "import pandas as pd\n",
    "\n",
    "df_movies = pd.read_csv('./data/movies.csv')\n",
    "df_ratings = pd.read_csv('./data/ratings.csv')\n",
    "\n",
    "merged = pd.merge(df_movies, df_ratings, on='movieId')\n",
    "\n",
    "merged = merged.assign(genres=merged['genres'].str.split('|')).explode('genres')\n",
    "\n",
    "genre_mean = merged.groupby('genres')['rating'].mean()\n",
    "# print(genre_mean)\n",
    "\n",
    "max_mean = genre_mean.max()\n",
    "\n",
    "most_common_genres = genre_mean[genre_mean == max_mean].sort_index()\n",
    "\n",
    "print(most_common_genres.index.tolist())"
   ]
  },
  {
   "cell_type": "markdown",
   "id": "329e2019",
   "metadata": {},
   "source": [
    "5. 2015년도에 평가된 모든 Romance 영화의 평균 평점은?"
   ]
  },
  {
   "cell_type": "code",
   "execution_count": 71,
   "id": "d9b94585",
   "metadata": {},
   "outputs": [
    {
     "name": "stdout",
     "output_type": "stream",
     "text": [
      "3.396375098502758\n"
     ]
    }
   ],
   "source": [
    "import pandas as pd\n",
    "\n",
    "df_movies = pd.read_csv('./data/movies.csv')\n",
    "df_ratings = pd.read_csv('./data/ratings.csv')\n",
    "\n",
    "df_ratings['year'] = pd.to_datetime(df_ratings['timestamp'], unit='s').dt.year\n",
    "\n",
    "ratings_2015 = df_ratings[df_ratings['year'] == 2015]\n",
    "\n",
    "romance_movies = df_movies[df_movies['genres'].str.contains('Romance')]\n",
    "\n",
    "merged_2015 = pd.merge(ratings_2015, romance_movies, on='movieId')\n",
    "\n",
    "print(merged_2015['rating'].mean())"
   ]
  },
  {
   "cell_type": "markdown",
   "id": "bb236113",
   "metadata": {},
   "source": [
    "6. 가장 많은 장르를 포함한 영화는 무엇인가?\n",
    "   단, 동률이 있을 경우 모두 출력하고 title을 기준으로 오름차순 정렬하세요."
   ]
  },
  {
   "cell_type": "code",
   "execution_count": null,
   "id": "9d2a557c",
   "metadata": {},
   "outputs": [],
   "source": [
    "import pandas as pd\n",
    "\n",
    "df_movies = pd.read_csv('./data/movies.csv')\n",
    "df_ratings = pd.read_csv('./data/ratings.csv')"
   ]
  }
 ],
 "metadata": {
  "kernelspec": {
   "display_name": "data_env",
   "language": "python",
   "name": "python3"
  },
  "language_info": {
   "codemirror_mode": {
    "name": "ipython",
    "version": 3
   },
   "file_extension": ".py",
   "mimetype": "text/x-python",
   "name": "python",
   "nbconvert_exporter": "python",
   "pygments_lexer": "ipython3",
   "version": "3.10.16"
  }
 },
 "nbformat": 4,
 "nbformat_minor": 5
}
